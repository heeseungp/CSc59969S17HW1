{
 "cells": [
  {
   "cell_type": "code",
   "execution_count": 4,
   "metadata": {
    "collapsed": true
   },
   "outputs": [],
   "source": [
    "import matplotlib.pyplot as plt\n",
    "import pandas\n",
    "import numpy as np\n",
    "\n",
    "#extracts by any type + gender \n",
    "def extractByType(genderExcel, typeList):\n",
    "    final = []\n",
    "    temp = []\n",
    "    for i, typeList_element in enumerate(typeList):\n",
    "        for j, genderExcel_element in enumerate(genderExcel):\n",
    "            temp.append(float(genderExcel_element.loc[typeList_element]))\n",
    "        final.append(temp)\n",
    "        temp = []\n",
    "    return(final)\n",
    "\n",
    "#using read_excel function to retrieve data from excel file\n",
    "mfah94 = pandas.read_excel(\"/home/heeseung5/Documents/CSc59969S17HW1/USFoodCommodity.xls\", \"94-98 FAH\", None, 74, 140, 0, parse_cols = \"A,H:H\")\n",
    "wfah94 = pandas.read_excel(\"/home/heeseung5/Documents/CSc59969S17HW1/USFoodCommodity.xls\", \"94-98 FAH\", None, 74, 140, 0, parse_cols = \"A,K:K\")\n",
    "mfah03 = pandas.read_excel(\"/home/heeseung5/Documents/CSc59969S17HW1/USFoodCommodity.xls\", \"03-04 FAH\", None, 74, 140, 0, parse_cols = \"A,H:H\")\n",
    "wfah03 = pandas.read_excel(\"/home/heeseung5/Documents/CSc59969S17HW1/USFoodCommodity.xls\", \"03-04 FAH\", None, 74, 140, 0, parse_cols = \"A,K:K\")\n",
    "mfah05 = pandas.read_excel(\"/home/heeseung5/Documents/CSc59969S17HW1/USFoodCommodity.xls\", \"05-06 FAH\", None, 74, 140, 0, parse_cols = \"A,H:H\")\n",
    "wfah05 = pandas.read_excel(\"/home/heeseung5/Documents/CSc59969S17HW1/USFoodCommodity.xls\", \"05-06 FAH\", None, 74, 140, 0, parse_cols = \"A,K:K\")\n",
    "mfah07 = pandas.read_excel(\"/home/heeseung5/Documents/CSc59969S17HW1/USFoodCommodity.xls\", \"07-08 FAH\", None, 74, 140, 0, parse_cols = \"A,H:H\")\n",
    "wfah07 = pandas.read_excel(\"/home/heeseung5/Documents/CSc59969S17HW1/USFoodCommodity.xls\", \"07-08 FAH\", None, 74, 140, 0, parse_cols = \"A,K:K\")\n",
    "\n",
    "#putting mens' on the menList\n",
    "menList = [mfah94, mfah03, mfah05, mfah07]\n",
    "\n",
    "#putting women's on the womenList\n",
    "womenList = [wfah94, wfah03, wfah05, wfah07]\n",
    "\n",
    "#the years provided from the excel sheet\n",
    "yrs = ['94-98' , '03-04' , '05-06' , '07-08']\n",
    "\n",
    "#type of fruits\n",
    "orangestotal = '   Oranges, Total'\n",
    "othercitrusfruit = '   Other citrus fruit'\n",
    "stonefruit = '   Stone fruit'\n",
    "tropicalfruit = '   Tropical fruit'\n",
    "applesasfruit = '     Apples as fruit'\n",
    "bananas = '   Bananas'\n",
    "berries = '   Berries'\n",
    "grapes = '   Grapes'\n",
    "melons = '   Melons'\n",
    "fruitList = [applesasfruit, bananas, berries, grapes, melons, orangestotal, othercitrusfruit, stonefruit, tropicalfruit]\n",
    "fruitNameList = []\n",
    "for i in fruitList:\n",
    "    fruitNameList.append(str(i))\n",
    "    \n",
    "#type of dairy\n",
    "fluidmilktotal = '   Fluid milk, Total'\n",
    "butter = '   Butter'\n",
    "cheese = '   Cheese'\n",
    "yogurt = '   Yogurt'\n",
    "dairyother = '   Dairy, Other'\n",
    "dairyList = [fluidmilktotal, butter, cheese, yogurt, dairyother]\n",
    "dairyNameList = []\n",
    "for i in dairyList:\n",
    "    dairyNameList.append(str(i))\n",
    "    \n",
    "menFinalFruit = extractByType(menList, fruitList)\n",
    "womenFinalFruit = extractByType(womenList, fruitList)\n",
    "menFinalDairy = extractByType(menList, dairyList)\n",
    "womenFinalDairy = extractByType(womenList, dairyList)"
   ]
  },
  {
   "cell_type": "code",
   "execution_count": 6,
   "metadata": {
    "collapsed": false
   },
   "outputs": [
    {
     "name": "stdout",
     "output_type": "stream",
     "text": [
      "[[89.18, 90.86, 89.7, 93.35], [95.42, 94.85, 95.59, 93.96], [84.21, 88.57, 91.83, 90.7], [88.79, 88.55, 93.65, 92.16], [80.74, 79.72, 80.85, 84.97], [85.66, 84.46, 86.0, 84.16], [79.82, 73.74, 72.95, 61.9], [88.95, 94.02, 93.05, 95.89], [74.61, 74.58, 76.94, 84.68]]\n"
     ]
    }
   ],
   "source": [
    "print(menFinalFruit)"
   ]
  },
  {
   "cell_type": "code",
   "execution_count": 91,
   "metadata": {
    "collapsed": false
   },
   "outputs": [],
   "source": [
    "def percentIncrease(genderList):\n",
    "    percentIncreaseList = []\n",
    "    for idx, element in enumerate(genderList):\n",
    "        percentIncreaseList.append(element[0] - element[len(element) - 1])\n",
    "    return percentIncreaseList\n",
    "    \n",
    "def graphPercentIncrease(men, women, howmany, listType):\n",
    "    N = howmany\n",
    "    print(len(men))\n",
    "    print(len(women))\n",
    "    ind = np.arange(N)  # the x locations for the groups\n",
    "    width = 0.35       # the width of the bars\n",
    "    fig, ax = plt.subplots()\n",
    "\n",
    "    rects1 = ax.bar(ind, men, width, color='r')\n",
    "    \n",
    "    \n",
    "    rects2 = ax.bar(ind + width, women, width, color='y')\n",
    "    \n",
    "    \n",
    "    # add some text for labels, title and axes ticks\n",
    "    ax.set_ylabel('Scores')\n",
    "    ax.set_title('Percentage Change from 1994-1998 to 2007-2008 for Each Product')\n",
    "    ax.set_xticks(ind + width / 2)\n",
    "    ax.set_xticklabels(listType)\n",
    "\n",
    "    ax.legend((rects1[0], rects2[0]), ('Men', 'Women'))\n",
    "\n",
    "\n",
    "    def autolabel(rects):\n",
    "        \"\"\"\n",
    "        Attach a text label above each bar displaying its height\n",
    "        \"\"\"\n",
    "        for rect in rects:\n",
    "            height = rect.get_height()\n",
    "            ax.text(rect.get_x() + rect.get_width()/2., 1.05*height,\n",
    "                    '%d' % int(height),\n",
    "                    ha='center', va='bottom')\n",
    "\n",
    "    autolabel(rects1)\n",
    "    autolabel(rects2)\n",
    "\n",
    "    plt.show()"
   ]
  },
  {
   "cell_type": "code",
   "execution_count": 92,
   "metadata": {
    "collapsed": false
   },
   "outputs": [
    {
     "name": "stdout",
     "output_type": "stream",
     "text": [
      "9\n"
     ]
    }
   ],
   "source": [
    "menFruitPercentList = percentIncrease(menFinalFruit)\n",
    "menDairyPercentList = percentIncrease(menFinalDairy)\n",
    "womenFruitPercentList = percentIncrease(womenFinalFruit)\n",
    "print(len(womenFruitPercentList))\n",
    "womenFruitPercentList = percentIncrease(womenFinalDairy)"
   ]
  },
  {
   "cell_type": "code",
   "execution_count": 93,
   "metadata": {
    "collapsed": false
   },
   "outputs": [
    {
     "name": "stdout",
     "output_type": "stream",
     "text": [
      "9\n",
      "5\n"
     ]
    },
    {
     "name": "stderr",
     "output_type": "stream",
     "text": [
      "/home/heeseung5/anaconda3/lib/python3.5/site-packages/matplotlib/pyplot.py:524: RuntimeWarning: More than 20 figures have been opened. Figures created through the pyplot interface (`matplotlib.pyplot.figure`) are retained until explicitly closed and may consume too much memory. (To control this warning, see the rcParam `figure.max_open_warning`).\n",
      "  max_open_warning, RuntimeWarning)\n"
     ]
    },
    {
     "ename": "ValueError",
     "evalue": "incompatible sizes: argument 'height' must be length 9 or scalar",
     "output_type": "error",
     "traceback": [
      "\u001b[0;31m---------------------------------------------------------------------------\u001b[0m",
      "\u001b[0;31mValueError\u001b[0m                                Traceback (most recent call last)",
      "\u001b[0;32m<ipython-input-93-4d06a0bfe8d1>\u001b[0m in \u001b[0;36m<module>\u001b[0;34m()\u001b[0m\n\u001b[1;32m      1\u001b[0m \u001b[0;31m# graphPercentIncrease(menFruitPercentList, womenFruitPercentList, len(fruitNameList), fruitNameList, 'Fruits')\u001b[0m\u001b[0;34m\u001b[0m\u001b[0;34m\u001b[0m\u001b[0m\n\u001b[0;32m----> 2\u001b[0;31m \u001b[0mwhatever\u001b[0m\u001b[0;34m(\u001b[0m\u001b[0mmenFruitPercentList\u001b[0m\u001b[0;34m,\u001b[0m \u001b[0mwomenFruitPercentList\u001b[0m\u001b[0;34m,\u001b[0m \u001b[0mlen\u001b[0m\u001b[0;34m(\u001b[0m\u001b[0mfruitNameList\u001b[0m\u001b[0;34m)\u001b[0m\u001b[0;34m,\u001b[0m \u001b[0mfruitNameList\u001b[0m\u001b[0;34m)\u001b[0m\u001b[0;34m\u001b[0m\u001b[0m\n\u001b[0m",
      "\u001b[0;32m<ipython-input-89-815148cc980c>\u001b[0m in \u001b[0;36mwhatever\u001b[0;34m(men, women, howmany, listType)\u001b[0m\n\u001b[1;32m     46\u001b[0m \u001b[0;34m\u001b[0m\u001b[0m\n\u001b[1;32m     47\u001b[0m \u001b[0;34m\u001b[0m\u001b[0m\n\u001b[0;32m---> 48\u001b[0;31m     \u001b[0mrects2\u001b[0m \u001b[0;34m=\u001b[0m \u001b[0max\u001b[0m\u001b[0;34m.\u001b[0m\u001b[0mbar\u001b[0m\u001b[0;34m(\u001b[0m\u001b[0mind\u001b[0m \u001b[0;34m+\u001b[0m \u001b[0mwidth\u001b[0m\u001b[0;34m,\u001b[0m \u001b[0mwomen\u001b[0m\u001b[0;34m,\u001b[0m \u001b[0mwidth\u001b[0m\u001b[0;34m,\u001b[0m \u001b[0mcolor\u001b[0m\u001b[0;34m=\u001b[0m\u001b[0;34m'y'\u001b[0m\u001b[0;34m)\u001b[0m\u001b[0;34m\u001b[0m\u001b[0m\n\u001b[0m\u001b[1;32m     49\u001b[0m \u001b[0;34m\u001b[0m\u001b[0m\n\u001b[1;32m     50\u001b[0m \u001b[0;34m\u001b[0m\u001b[0m\n",
      "\u001b[0;32m/home/heeseung5/anaconda3/lib/python3.5/site-packages/matplotlib/__init__.py\u001b[0m in \u001b[0;36minner\u001b[0;34m(ax, *args, **kwargs)\u001b[0m\n\u001b[1;32m   1817\u001b[0m                     warnings.warn(msg % (label_namer, func.__name__),\n\u001b[1;32m   1818\u001b[0m                                   RuntimeWarning, stacklevel=2)\n\u001b[0;32m-> 1819\u001b[0;31m             \u001b[0;32mreturn\u001b[0m \u001b[0mfunc\u001b[0m\u001b[0;34m(\u001b[0m\u001b[0max\u001b[0m\u001b[0;34m,\u001b[0m \u001b[0;34m*\u001b[0m\u001b[0margs\u001b[0m\u001b[0;34m,\u001b[0m \u001b[0;34m**\u001b[0m\u001b[0mkwargs\u001b[0m\u001b[0;34m)\u001b[0m\u001b[0;34m\u001b[0m\u001b[0m\n\u001b[0m\u001b[1;32m   1820\u001b[0m         \u001b[0mpre_doc\u001b[0m \u001b[0;34m=\u001b[0m \u001b[0minner\u001b[0m\u001b[0;34m.\u001b[0m\u001b[0m__doc__\u001b[0m\u001b[0;34m\u001b[0m\u001b[0m\n\u001b[1;32m   1821\u001b[0m         \u001b[0;32mif\u001b[0m \u001b[0mpre_doc\u001b[0m \u001b[0;32mis\u001b[0m \u001b[0;32mNone\u001b[0m\u001b[0;34m:\u001b[0m\u001b[0;34m\u001b[0m\u001b[0m\n",
      "\u001b[0;32m/home/heeseung5/anaconda3/lib/python3.5/site-packages/matplotlib/axes/_axes.py\u001b[0m in \u001b[0;36mbar\u001b[0;34m(self, left, height, width, bottom, **kwargs)\u001b[0m\n\u001b[1;32m   2036\u001b[0m         \u001b[0;32mif\u001b[0m \u001b[0mlen\u001b[0m\u001b[0;34m(\u001b[0m\u001b[0mheight\u001b[0m\u001b[0;34m)\u001b[0m \u001b[0;34m!=\u001b[0m \u001b[0mnbars\u001b[0m\u001b[0;34m:\u001b[0m\u001b[0;34m\u001b[0m\u001b[0m\n\u001b[1;32m   2037\u001b[0m             raise ValueError(\"incompatible sizes: argument 'height' \"\n\u001b[0;32m-> 2038\u001b[0;31m                               \"must be length %d or scalar\" % nbars)\n\u001b[0m\u001b[1;32m   2039\u001b[0m         \u001b[0;32mif\u001b[0m \u001b[0mlen\u001b[0m\u001b[0;34m(\u001b[0m\u001b[0mwidth\u001b[0m\u001b[0;34m)\u001b[0m \u001b[0;34m!=\u001b[0m \u001b[0mnbars\u001b[0m\u001b[0;34m:\u001b[0m\u001b[0;34m\u001b[0m\u001b[0m\n\u001b[1;32m   2040\u001b[0m             raise ValueError(\"incompatible sizes: argument 'width' \"\n",
      "\u001b[0;31mValueError\u001b[0m: incompatible sizes: argument 'height' must be length 9 or scalar"
     ]
    }
   ],
   "source": [
    "# graphPercentIncrease(menFruitPercentList, womenFruitPercentList, len(fruitNameList), fruitNameList, 'Fruits')\n",
    "whatever(menFruitPercentList, womenFruitPercentList, len(fruitNameList), fruitNameList)"
   ]
  }
 ],
 "metadata": {
  "anaconda-cloud": {},
  "kernelspec": {
   "display_name": "Python [default]",
   "language": "python",
   "name": "python3"
  },
  "language_info": {
   "codemirror_mode": {
    "name": "ipython",
    "version": 3
   },
   "file_extension": ".py",
   "mimetype": "text/x-python",
   "name": "python",
   "nbconvert_exporter": "python",
   "pygments_lexer": "ipython3",
   "version": "3.5.2"
  }
 },
 "nbformat": 4,
 "nbformat_minor": 1
}
